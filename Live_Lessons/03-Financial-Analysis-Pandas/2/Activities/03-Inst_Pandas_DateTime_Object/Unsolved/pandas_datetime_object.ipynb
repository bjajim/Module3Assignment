{
 "cells": [
  {
   "cell_type": "markdown",
   "metadata": {},
   "source": [
    "### Pandas DateTime Object\n",
    "\n",
    "In this activity we will explore the Pandas DataTime object using historical data from the Philidelphia SemiConductor Index (SOX) "
   ]
  },
  {
   "cell_type": "code",
   "execution_count": 1,
   "metadata": {},
   "outputs": [],
   "source": [
    "# Import required libraries\n",
    "\n",
    "import pandas as pd\n",
    "from pathlib import Path"
   ]
  },
  {
   "cell_type": "markdown",
   "metadata": {},
   "source": [
    "### Pandas to_datetime() Function"
   ]
  },
  {
   "cell_type": "code",
   "execution_count": 2,
   "metadata": {},
   "outputs": [
    {
     "data": {
      "text/plain": [
       "Timestamp('2022-01-05 20:09:26.425767')"
      ]
     },
     "execution_count": 2,
     "metadata": {},
     "output_type": "execute_result"
    }
   ],
   "source": [
    "# Find the information for `today`\n",
    "pd.to_datetime('today')\n"
   ]
  },
  {
   "cell_type": "markdown",
   "metadata": {},
   "source": [
    "### Read in CSV file and create DataFrame"
   ]
  },
  {
   "cell_type": "code",
   "execution_count": 3,
   "metadata": {},
   "outputs": [
    {
     "data": {
      "text/html": [
       "<div>\n",
       "<style scoped>\n",
       "    .dataframe tbody tr th:only-of-type {\n",
       "        vertical-align: middle;\n",
       "    }\n",
       "\n",
       "    .dataframe tbody tr th {\n",
       "        vertical-align: top;\n",
       "    }\n",
       "\n",
       "    .dataframe thead th {\n",
       "        text-align: right;\n",
       "    }\n",
       "</style>\n",
       "<table border=\"1\" class=\"dataframe\">\n",
       "  <thead>\n",
       "    <tr style=\"text-align: right;\">\n",
       "      <th></th>\n",
       "      <th>Date</th>\n",
       "      <th>Open</th>\n",
       "      <th>High</th>\n",
       "      <th>Low</th>\n",
       "      <th>Close</th>\n",
       "    </tr>\n",
       "  </thead>\n",
       "  <tbody>\n",
       "    <tr>\n",
       "      <th>0</th>\n",
       "      <td>2015-05-26 09:30:00</td>\n",
       "      <td>719.51</td>\n",
       "      <td>720.32</td>\n",
       "      <td>714.11</td>\n",
       "      <td>714.70</td>\n",
       "    </tr>\n",
       "    <tr>\n",
       "      <th>1</th>\n",
       "      <td>2015-05-26 10:00:00</td>\n",
       "      <td>714.70</td>\n",
       "      <td>715.58</td>\n",
       "      <td>712.02</td>\n",
       "      <td>713.89</td>\n",
       "    </tr>\n",
       "    <tr>\n",
       "      <th>2</th>\n",
       "      <td>2015-05-26 12:00:00</td>\n",
       "      <td>713.89</td>\n",
       "      <td>714.56</td>\n",
       "      <td>711.89</td>\n",
       "      <td>711.95</td>\n",
       "    </tr>\n",
       "    <tr>\n",
       "      <th>3</th>\n",
       "      <td>2015-05-26 14:00:00</td>\n",
       "      <td>711.95</td>\n",
       "      <td>715.43</td>\n",
       "      <td>711.44</td>\n",
       "      <td>714.79</td>\n",
       "    </tr>\n",
       "    <tr>\n",
       "      <th>4</th>\n",
       "      <td>2015-05-27 09:30:00</td>\n",
       "      <td>716.49</td>\n",
       "      <td>723.03</td>\n",
       "      <td>716.21</td>\n",
       "      <td>721.83</td>\n",
       "    </tr>\n",
       "  </tbody>\n",
       "</table>\n",
       "</div>"
      ],
      "text/plain": [
       "                  Date   Open     High     Low   Close\n",
       "0  2015-05-26 09:30:00  719.51  720.32  714.11  714.70\n",
       "1  2015-05-26 10:00:00  714.70  715.58  712.02  713.89\n",
       "2  2015-05-26 12:00:00  713.89  714.56  711.89  711.95\n",
       "3  2015-05-26 14:00:00  711.95  715.43  711.44  714.79\n",
       "4  2015-05-27 09:30:00  716.49  723.03  716.21  721.83"
      ]
     },
     "metadata": {},
     "output_type": "display_data"
    },
    {
     "data": {
      "text/html": [
       "<div>\n",
       "<style scoped>\n",
       "    .dataframe tbody tr th:only-of-type {\n",
       "        vertical-align: middle;\n",
       "    }\n",
       "\n",
       "    .dataframe tbody tr th {\n",
       "        vertical-align: top;\n",
       "    }\n",
       "\n",
       "    .dataframe thead th {\n",
       "        text-align: right;\n",
       "    }\n",
       "</style>\n",
       "<table border=\"1\" class=\"dataframe\">\n",
       "  <thead>\n",
       "    <tr style=\"text-align: right;\">\n",
       "      <th></th>\n",
       "      <th>Date</th>\n",
       "      <th>Open</th>\n",
       "      <th>High</th>\n",
       "      <th>Low</th>\n",
       "      <th>Close</th>\n",
       "    </tr>\n",
       "  </thead>\n",
       "  <tbody>\n",
       "    <tr>\n",
       "      <th>4952</th>\n",
       "      <td>2020-05-12 14:00:00</td>\n",
       "      <td>1773.22</td>\n",
       "      <td>1774.03</td>\n",
       "      <td>1724.40</td>\n",
       "      <td>1724.59</td>\n",
       "    </tr>\n",
       "    <tr>\n",
       "      <th>4953</th>\n",
       "      <td>2020-05-13 09:30:00</td>\n",
       "      <td>1729.62</td>\n",
       "      <td>1733.20</td>\n",
       "      <td>1708.62</td>\n",
       "      <td>1721.73</td>\n",
       "    </tr>\n",
       "    <tr>\n",
       "      <th>4954</th>\n",
       "      <td>2020-05-13 10:00:00</td>\n",
       "      <td>1721.50</td>\n",
       "      <td>1741.61</td>\n",
       "      <td>1689.48</td>\n",
       "      <td>1693.28</td>\n",
       "    </tr>\n",
       "    <tr>\n",
       "      <th>4955</th>\n",
       "      <td>2020-05-13 12:00:00</td>\n",
       "      <td>1693.33</td>\n",
       "      <td>1695.57</td>\n",
       "      <td>1674.23</td>\n",
       "      <td>1676.15</td>\n",
       "    </tr>\n",
       "    <tr>\n",
       "      <th>4956</th>\n",
       "      <td>2020-05-13 14:00:00</td>\n",
       "      <td>1675.86</td>\n",
       "      <td>1694.44</td>\n",
       "      <td>1667.52</td>\n",
       "      <td>1691.58</td>\n",
       "    </tr>\n",
       "  </tbody>\n",
       "</table>\n",
       "</div>"
      ],
      "text/plain": [
       "                     Date    Open      High      Low    Close\n",
       "4952  2020-05-12 14:00:00  1773.22  1774.03  1724.40  1724.59\n",
       "4953  2020-05-13 09:30:00  1729.62  1733.20  1708.62  1721.73\n",
       "4954  2020-05-13 10:00:00  1721.50  1741.61  1689.48  1693.28\n",
       "4955  2020-05-13 12:00:00  1693.33  1695.57  1674.23  1676.15\n",
       "4956  2020-05-13 14:00:00  1675.86  1694.44  1667.52  1691.58"
      ]
     },
     "metadata": {},
     "output_type": "display_data"
    },
    {
     "name": "stdout",
     "output_type": "stream",
     "text": [
      "<class 'pandas.core.frame.DataFrame'>\n",
      "RangeIndex: 4957 entries, 0 to 4956\n",
      "Data columns (total 5 columns):\n",
      " #   Column  Non-Null Count  Dtype  \n",
      "---  ------  --------------  -----  \n",
      " 0   Date    4957 non-null   object \n",
      " 1   Open    4957 non-null   float64\n",
      " 2   High    4957 non-null   float64\n",
      " 3   Low     4957 non-null   float64\n",
      " 4   Close   4957 non-null   float64\n",
      "dtypes: float64(4), object(1)\n",
      "memory usage: 193.8+ KB\n"
     ]
    }
   ],
   "source": [
    "# Read in the CSV as a DataFrame\n",
    "sox_df = pd.read_csv(Path('../Resources/SOX_2015_2020.csv'))\n",
    "\n",
    "# Display the fist and last five rows of the DataFrame\n",
    "display(sox_df.head())\n",
    "display(sox_df.tail())\n",
    "\n",
    "# View the DataFrame information\n",
    "sox_df.info()\n"
   ]
  },
  {
   "cell_type": "markdown",
   "metadata": {},
   "source": [
    "### Reimport the CSV file creating a DateTime Index from the \"Date\" column"
   ]
  },
  {
   "cell_type": "code",
   "execution_count": 6,
   "metadata": {},
   "outputs": [
    {
     "data": {
      "text/html": [
       "<div>\n",
       "<style scoped>\n",
       "    .dataframe tbody tr th:only-of-type {\n",
       "        vertical-align: middle;\n",
       "    }\n",
       "\n",
       "    .dataframe tbody tr th {\n",
       "        vertical-align: top;\n",
       "    }\n",
       "\n",
       "    .dataframe thead th {\n",
       "        text-align: right;\n",
       "    }\n",
       "</style>\n",
       "<table border=\"1\" class=\"dataframe\">\n",
       "  <thead>\n",
       "    <tr style=\"text-align: right;\">\n",
       "      <th></th>\n",
       "      <th>Open</th>\n",
       "      <th>High</th>\n",
       "      <th>Low</th>\n",
       "      <th>Close</th>\n",
       "    </tr>\n",
       "    <tr>\n",
       "      <th>Date</th>\n",
       "      <th></th>\n",
       "      <th></th>\n",
       "      <th></th>\n",
       "      <th></th>\n",
       "    </tr>\n",
       "  </thead>\n",
       "  <tbody>\n",
       "    <tr>\n",
       "      <th>2015-05-26 09:30:00</th>\n",
       "      <td>719.51</td>\n",
       "      <td>720.32</td>\n",
       "      <td>714.11</td>\n",
       "      <td>714.70</td>\n",
       "    </tr>\n",
       "    <tr>\n",
       "      <th>2015-05-26 10:00:00</th>\n",
       "      <td>714.70</td>\n",
       "      <td>715.58</td>\n",
       "      <td>712.02</td>\n",
       "      <td>713.89</td>\n",
       "    </tr>\n",
       "    <tr>\n",
       "      <th>2015-05-26 12:00:00</th>\n",
       "      <td>713.89</td>\n",
       "      <td>714.56</td>\n",
       "      <td>711.89</td>\n",
       "      <td>711.95</td>\n",
       "    </tr>\n",
       "    <tr>\n",
       "      <th>2015-05-26 14:00:00</th>\n",
       "      <td>711.95</td>\n",
       "      <td>715.43</td>\n",
       "      <td>711.44</td>\n",
       "      <td>714.79</td>\n",
       "    </tr>\n",
       "    <tr>\n",
       "      <th>2015-05-27 09:30:00</th>\n",
       "      <td>716.49</td>\n",
       "      <td>723.03</td>\n",
       "      <td>716.21</td>\n",
       "      <td>721.83</td>\n",
       "    </tr>\n",
       "  </tbody>\n",
       "</table>\n",
       "</div>"
      ],
      "text/plain": [
       "                      Open     High     Low   Close\n",
       "Date                                               \n",
       "2015-05-26 09:30:00  719.51  720.32  714.11  714.70\n",
       "2015-05-26 10:00:00  714.70  715.58  712.02  713.89\n",
       "2015-05-26 12:00:00  713.89  714.56  711.89  711.95\n",
       "2015-05-26 14:00:00  711.95  715.43  711.44  714.79\n",
       "2015-05-27 09:30:00  716.49  723.03  716.21  721.83"
      ]
     },
     "metadata": {},
     "output_type": "display_data"
    },
    {
     "data": {
      "text/html": [
       "<div>\n",
       "<style scoped>\n",
       "    .dataframe tbody tr th:only-of-type {\n",
       "        vertical-align: middle;\n",
       "    }\n",
       "\n",
       "    .dataframe tbody tr th {\n",
       "        vertical-align: top;\n",
       "    }\n",
       "\n",
       "    .dataframe thead th {\n",
       "        text-align: right;\n",
       "    }\n",
       "</style>\n",
       "<table border=\"1\" class=\"dataframe\">\n",
       "  <thead>\n",
       "    <tr style=\"text-align: right;\">\n",
       "      <th></th>\n",
       "      <th>Open</th>\n",
       "      <th>High</th>\n",
       "      <th>Low</th>\n",
       "      <th>Close</th>\n",
       "    </tr>\n",
       "    <tr>\n",
       "      <th>Date</th>\n",
       "      <th></th>\n",
       "      <th></th>\n",
       "      <th></th>\n",
       "      <th></th>\n",
       "    </tr>\n",
       "  </thead>\n",
       "  <tbody>\n",
       "    <tr>\n",
       "      <th>2020-05-12 14:00:00</th>\n",
       "      <td>1773.22</td>\n",
       "      <td>1774.03</td>\n",
       "      <td>1724.40</td>\n",
       "      <td>1724.59</td>\n",
       "    </tr>\n",
       "    <tr>\n",
       "      <th>2020-05-13 09:30:00</th>\n",
       "      <td>1729.62</td>\n",
       "      <td>1733.20</td>\n",
       "      <td>1708.62</td>\n",
       "      <td>1721.73</td>\n",
       "    </tr>\n",
       "    <tr>\n",
       "      <th>2020-05-13 10:00:00</th>\n",
       "      <td>1721.50</td>\n",
       "      <td>1741.61</td>\n",
       "      <td>1689.48</td>\n",
       "      <td>1693.28</td>\n",
       "    </tr>\n",
       "    <tr>\n",
       "      <th>2020-05-13 12:00:00</th>\n",
       "      <td>1693.33</td>\n",
       "      <td>1695.57</td>\n",
       "      <td>1674.23</td>\n",
       "      <td>1676.15</td>\n",
       "    </tr>\n",
       "    <tr>\n",
       "      <th>2020-05-13 14:00:00</th>\n",
       "      <td>1675.86</td>\n",
       "      <td>1694.44</td>\n",
       "      <td>1667.52</td>\n",
       "      <td>1691.58</td>\n",
       "    </tr>\n",
       "  </tbody>\n",
       "</table>\n",
       "</div>"
      ],
      "text/plain": [
       "                       Open      High      Low    Close\n",
       "Date                                                   \n",
       "2020-05-12 14:00:00  1773.22  1774.03  1724.40  1724.59\n",
       "2020-05-13 09:30:00  1729.62  1733.20  1708.62  1721.73\n",
       "2020-05-13 10:00:00  1721.50  1741.61  1689.48  1693.28\n",
       "2020-05-13 12:00:00  1693.33  1695.57  1674.23  1676.15\n",
       "2020-05-13 14:00:00  1675.86  1694.44  1667.52  1691.58"
      ]
     },
     "metadata": {},
     "output_type": "display_data"
    },
    {
     "name": "stdout",
     "output_type": "stream",
     "text": [
      "<class 'pandas.core.frame.DataFrame'>\n",
      "DatetimeIndex: 4957 entries, 2015-05-26 09:30:00 to 2020-05-13 14:00:00\n",
      "Data columns (total 4 columns):\n",
      " #   Column  Non-Null Count  Dtype  \n",
      "---  ------  --------------  -----  \n",
      " 0   Open    4957 non-null   float64\n",
      " 1   High    4957 non-null   float64\n",
      " 2   Low     4957 non-null   float64\n",
      " 3   Close   4957 non-null   float64\n",
      "dtypes: float64(4)\n",
      "memory usage: 193.6 KB\n"
     ]
    }
   ],
   "source": [
    "# Read in the CSV as a DataFrame and convert the \"Date\" column to a DataTime Index\n",
    "sox_df = pd.read_csv(Path('../Resources/SOX_2015_2020.csv'), index_col=\"Date\", parse_dates = True, infer_datetime_format = True)\n",
    "\n",
    "\n",
    "# Display the fist and last five rows of the DataFrame\n",
    "display(sox_df.head())\n",
    "display(sox_df.tail())\n",
    "# View the DataFrame information\n",
    "\n",
    "sox_df.info()"
   ]
  },
  {
   "cell_type": "markdown",
   "metadata": {},
   "source": [
    "### Convert our DateTime Series to a DateTime Index"
   ]
  },
  {
   "cell_type": "code",
   "execution_count": 7,
   "metadata": {},
   "outputs": [
    {
     "data": {
      "text/plain": [
       "<matplotlib.axes._subplots.AxesSubplot at 0x1f38ebeb310>"
      ]
     },
     "execution_count": 7,
     "metadata": {},
     "output_type": "execute_result"
    },
    {
     "data": {
      "image/png": "[encoded data removed]",
      "text/plain": [
       "<Figure size 432x288 with 1 Axes>"
      ]
     },
     "metadata": {
      "needs_background": "light"
     },
     "output_type": "display_data"
    }
   ],
   "source": [
    "# Make the date column our Index\n",
    "sox_df[\"Close\"].plot()\n"
   ]
  },
  {
   "cell_type": "code",
   "execution_count": 9,
   "metadata": {},
   "outputs": [
    {
     "data": {
      "text/plain": [
       "<matplotlib.axes._subplots.AxesSubplot at 0x1f38f42dca0>"
      ]
     },
     "execution_count": 9,
     "metadata": {},
     "output_type": "execute_result"
    },
    {
     "data": {
      "image/png": "[encoded data removed]",
      "text/plain": [
       "<Figure size 432x288 with 1 Axes>"
      ]
     },
     "metadata": {
      "needs_background": "light"
     },
     "output_type": "display_data"
    }
   ],
   "source": [
    "# Drop the 'Date' column\n",
    "sox_df['High'].loc['2020-01-01':'2020-05-13'].plot(rot=90)\n",
    "sox_df['Low'].loc['2020-01-01':'2020-05-13'].plot(rot=90)"
   ]
  },
  {
   "cell_type": "markdown",
   "metadata": {},
   "source": [
    "### Plot the SOX DataFrame with Date as the index"
   ]
  },
  {
   "cell_type": "code",
   "execution_count": 10,
   "metadata": {},
   "outputs": [
    {
     "data": {
      "text/plain": [
       "<matplotlib.axes._subplots.AxesSubplot at 0x1f38f435dc0>"
      ]
     },
     "execution_count": 10,
     "metadata": {},
     "output_type": "execute_result"
    },
    {
     "data": {
      "image/png": "[encoded data removed]",
      "text/plain": [
       "<Figure size 432x288 with 1 Axes>"
      ]
     },
     "metadata": {
      "needs_background": "light"
     },
     "output_type": "display_data"
    }
   ],
   "source": [
    "# Plot the closing price for the SOX DataFrame\n",
    "\n",
    "sox_df[\"Close\"].plot()\n",
    "\n"
   ]
  },
  {
   "cell_type": "code",
   "execution_count": 11,
   "metadata": {},
   "outputs": [
    {
     "data": {
      "text/plain": [
       "<matplotlib.axes._subplots.AxesSubplot at 0x1f38f525790>"
      ]
     },
     "execution_count": 11,
     "metadata": {},
     "output_type": "execute_result"
    },
    {
     "data": {
      "image/png": "[encoded data removed]",
      "text/plain": [
       "<Figure size 432x288 with 1 Axes>"
      ]
     },
     "metadata": {
      "needs_background": "light"
     },
     "output_type": "display_data"
    }
   ],
   "source": [
    "# Plot the high and low price for a specific date range\n",
    "sox_df['High'].loc['2020-01-01':'2020-05-13'].plot(rot=90)\n",
    "sox_df['Low'].loc['2020-01-01':'2020-05-13'].plot(rot=90)\n"
   ]
  },
  {
   "cell_type": "code",
   "execution_count": 12,
   "metadata": {},
   "outputs": [
    {
     "data": {
      "text/plain": [
       "<matplotlib.axes._subplots.AxesSubplot at 0x1f38f514ca0>"
      ]
     },
     "execution_count": 12,
     "metadata": {},
     "output_type": "execute_result"
    },
    {
     "data": {
      "image/png": "[encoded data removed]",
      "text/plain": [
       "<Figure size 432x288 with 1 Axes>"
      ]
     },
     "metadata": {
      "needs_background": "light"
     },
     "output_type": "display_data"
    }
   ],
   "source": [
    "# Plot a specific time period\n",
    "sox_df['High'].loc['2020-02-20 09:30:00':'2020-02-25 16:00:00'].plot(rot=45)\n",
    "sox_df['Low'].loc['2020-02-20 09:30:00':'2020-02-25 16:00:00'].plot(rot=45)\n",
    "\n"
   ]
  },
  {
   "cell_type": "code",
   "execution_count": null,
   "metadata": {},
   "outputs": [],
   "source": []
  }
 ],
 "metadata": {
  "kernelspec": {
   "display_name": "Python [conda env:dev] *",
   "language": "python",
   "name": "conda-env-dev-py"
  },
  "language_info": {
   "codemirror_mode": {
    "name": "ipython",
    "version": 3
   },
   "file_extension": ".py",
   "mimetype": "text/x-python",
   "name": "python",
   "nbconvert_exporter": "python",
   "pygments_lexer": "ipython3",
   "version": "3.8.10"
  }
 },
 "nbformat": 4,
 "nbformat_minor": 4
}
