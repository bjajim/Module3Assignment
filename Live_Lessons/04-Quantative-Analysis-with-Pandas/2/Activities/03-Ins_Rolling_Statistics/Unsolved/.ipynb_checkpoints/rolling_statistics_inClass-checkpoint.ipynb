{
 "cells": [
  {
   "cell_type": "markdown",
   "metadata": {},
   "source": [
    " # Visualizing Rolling Statistics with Pandas DataFrames\n",
    "\n",
    "\n",
    "    ** Now we can look a  window of time smaller than 10 years. When you develop automated trading strategis you look at a shorter window times, (1 week or less)\n",
    "\n",
    "    ** Pandas `rolling()` method allow us to do this. It returns a Series and any method available to a Series is callable on the output of rolling().\n",
    "    \n",
    "[Pandas Documentation](https://pandas.pydata.org/pandas-docs/stable/reference/api/pandas.DataFrame.rolling.html)"
   ]
  },
  {
   "cell_type": "markdown",
   "metadata": {},
   "source": [
    " ## 1. Import Libraries and Dependencies"
   ]
  },
  {
   "cell_type": "code",
   "execution_count": 1,
   "metadata": {},
   "outputs": [],
   "source": [
    "# Import libraries and dependencies\n",
    "import pandas as pd\n",
    "from pathlib import Path\n",
    "%matplotlib inline\n"
   ]
  },
  {
   "cell_type": "markdown",
   "metadata": {},
   "source": [
    " ## 2. Create a Path to the File Using Pathlib."
   ]
  },
  {
   "cell_type": "code",
   "execution_count": 2,
   "metadata": {},
   "outputs": [],
   "source": [
    "# Read the aapl data, set the `date` as the index\n",
    "aapl_csv_path = Path(\"../Resources/aapl.csv\")\n",
    "\n"
   ]
  },
  {
   "cell_type": "markdown",
   "metadata": {},
   "source": [
    " ## 3. Read the CSV into a Pandas DataFrame."
   ]
  },
  {
   "cell_type": "code",
   "execution_count": 3,
   "metadata": {},
   "outputs": [
    {
     "data": {
      "text/html": [
       "<div>\n",
       "<style scoped>\n",
       "    .dataframe tbody tr th:only-of-type {\n",
       "        vertical-align: middle;\n",
       "    }\n",
       "\n",
       "    .dataframe tbody tr th {\n",
       "        vertical-align: top;\n",
       "    }\n",
       "\n",
       "    .dataframe thead th {\n",
       "        text-align: right;\n",
       "    }\n",
       "</style>\n",
       "<table border=\"1\" class=\"dataframe\">\n",
       "  <thead>\n",
       "    <tr style=\"text-align: right;\">\n",
       "      <th></th>\n",
       "      <th>close</th>\n",
       "      <th>volume</th>\n",
       "      <th>open</th>\n",
       "      <th>high</th>\n",
       "      <th>low</th>\n",
       "    </tr>\n",
       "    <tr>\n",
       "      <th>date</th>\n",
       "      <th></th>\n",
       "      <th></th>\n",
       "      <th></th>\n",
       "      <th></th>\n",
       "      <th></th>\n",
       "    </tr>\n",
       "  </thead>\n",
       "  <tbody>\n",
       "    <tr>\n",
       "      <th>2009-08-03</th>\n",
       "      <td>23.7757</td>\n",
       "      <td>98285279</td>\n",
       "      <td>23.6014</td>\n",
       "      <td>23.8057</td>\n",
       "      <td>23.5529</td>\n",
       "    </tr>\n",
       "    <tr>\n",
       "      <th>2009-08-04</th>\n",
       "      <td>23.6500</td>\n",
       "      <td>98772690</td>\n",
       "      <td>23.5614</td>\n",
       "      <td>23.6529</td>\n",
       "      <td>23.4586</td>\n",
       "    </tr>\n",
       "    <tr>\n",
       "      <th>2009-08-05</th>\n",
       "      <td>23.5871</td>\n",
       "      <td>105581942</td>\n",
       "      <td>23.6786</td>\n",
       "      <td>23.9128</td>\n",
       "      <td>23.4586</td>\n",
       "    </tr>\n",
       "    <tr>\n",
       "      <th>2009-08-06</th>\n",
       "      <td>23.4157</td>\n",
       "      <td>85271156</td>\n",
       "      <td>23.6543</td>\n",
       "      <td>23.7871</td>\n",
       "      <td>23.2986</td>\n",
       "    </tr>\n",
       "    <tr>\n",
       "      <th>2009-08-07</th>\n",
       "      <td>23.6443</td>\n",
       "      <td>96727219</td>\n",
       "      <td>23.6414</td>\n",
       "      <td>23.8000</td>\n",
       "      <td>23.5429</td>\n",
       "    </tr>\n",
       "  </tbody>\n",
       "</table>\n",
       "</div>"
      ],
      "text/plain": [
       "              close     volume     open     high      low\n",
       "date                                                     \n",
       "2009-08-03  23.7757   98285279  23.6014  23.8057  23.5529\n",
       "2009-08-04  23.6500   98772690  23.5614  23.6529  23.4586\n",
       "2009-08-05  23.5871  105581942  23.6786  23.9128  23.4586\n",
       "2009-08-06  23.4157   85271156  23.6543  23.7871  23.2986\n",
       "2009-08-07  23.6443   96727219  23.6414  23.8000  23.5429"
      ]
     },
     "execution_count": 3,
     "metadata": {},
     "output_type": "execute_result"
    }
   ],
   "source": [
    "# Read the aapl CSV into a DataFrame while formatting and setting the `date` column as the index\n",
    "aapl_df = pd.read_csv(aapl_csv_path, index_col=\"date\", infer_datetime_format=True, parse_dates=True)\n",
    "aapl_df.head()"
   ]
  },
  {
   "cell_type": "markdown",
   "metadata": {},
   "source": [
    " ## 4. Drop Extra Columns"
   ]
  },
  {
   "cell_type": "code",
   "execution_count": 4,
   "metadata": {},
   "outputs": [],
   "source": [
    "# Use the `drop` function to drop the extra columns\n",
    "aapl_df.drop(columns=[\"volume\", \"open\", \"high\", \"low\"], inplace=True)"
   ]
  },
  {
   "cell_type": "code",
   "execution_count": 5,
   "metadata": {},
   "outputs": [
    {
     "data": {
      "text/html": [
       "<div>\n",
       "<style scoped>\n",
       "    .dataframe tbody tr th:only-of-type {\n",
       "        vertical-align: middle;\n",
       "    }\n",
       "\n",
       "    .dataframe tbody tr th {\n",
       "        vertical-align: top;\n",
       "    }\n",
       "\n",
       "    .dataframe thead th {\n",
       "        text-align: right;\n",
       "    }\n",
       "</style>\n",
       "<table border=\"1\" class=\"dataframe\">\n",
       "  <thead>\n",
       "    <tr style=\"text-align: right;\">\n",
       "      <th></th>\n",
       "      <th>close</th>\n",
       "    </tr>\n",
       "    <tr>\n",
       "      <th>date</th>\n",
       "      <th></th>\n",
       "    </tr>\n",
       "  </thead>\n",
       "  <tbody>\n",
       "    <tr>\n",
       "      <th>2009-08-03</th>\n",
       "      <td>23.7757</td>\n",
       "    </tr>\n",
       "    <tr>\n",
       "      <th>2009-08-04</th>\n",
       "      <td>23.6500</td>\n",
       "    </tr>\n",
       "    <tr>\n",
       "      <th>2009-08-05</th>\n",
       "      <td>23.5871</td>\n",
       "    </tr>\n",
       "    <tr>\n",
       "      <th>2009-08-06</th>\n",
       "      <td>23.4157</td>\n",
       "    </tr>\n",
       "    <tr>\n",
       "      <th>2009-08-07</th>\n",
       "      <td>23.6443</td>\n",
       "    </tr>\n",
       "    <tr>\n",
       "      <th>...</th>\n",
       "      <td>...</td>\n",
       "    </tr>\n",
       "    <tr>\n",
       "      <th>2019-07-26</th>\n",
       "      <td>207.7400</td>\n",
       "    </tr>\n",
       "    <tr>\n",
       "      <th>2019-07-29</th>\n",
       "      <td>209.6800</td>\n",
       "    </tr>\n",
       "    <tr>\n",
       "      <th>2019-07-30</th>\n",
       "      <td>208.7800</td>\n",
       "    </tr>\n",
       "    <tr>\n",
       "      <th>2019-07-31</th>\n",
       "      <td>213.0400</td>\n",
       "    </tr>\n",
       "    <tr>\n",
       "      <th>2019-08-01</th>\n",
       "      <td>208.4300</td>\n",
       "    </tr>\n",
       "  </tbody>\n",
       "</table>\n",
       "<p>2517 rows × 1 columns</p>\n",
       "</div>"
      ],
      "text/plain": [
       "               close\n",
       "date                \n",
       "2009-08-03   23.7757\n",
       "2009-08-04   23.6500\n",
       "2009-08-05   23.5871\n",
       "2009-08-06   23.4157\n",
       "2009-08-07   23.6443\n",
       "...              ...\n",
       "2019-07-26  207.7400\n",
       "2019-07-29  209.6800\n",
       "2019-07-30  208.7800\n",
       "2019-07-31  213.0400\n",
       "2019-08-01  208.4300\n",
       "\n",
       "[2517 rows x 1 columns]"
      ]
     },
     "execution_count": 5,
     "metadata": {},
     "output_type": "execute_result"
    }
   ],
   "source": [
    "aapl_df"
   ]
  },
  {
   "cell_type": "markdown",
   "metadata": {},
   "source": [
    " ## 6. Rolling 7-Day Mean of AAPL Closing Prices"
   ]
  },
  {
   "cell_type": "code",
   "execution_count": 6,
   "metadata": {},
   "outputs": [],
   "source": [
    "# Plot a rolling 7-day mean of aapl's closing prices\n"
   ]
  },
  {
   "cell_type": "code",
   "execution_count": 7,
   "metadata": {},
   "outputs": [],
   "source": [
    "# Show the dataframe the first 7 NAN values\n"
   ]
  },
  {
   "cell_type": "markdown",
   "metadata": {},
   "source": [
    " ## 8. Rolling 30-Day Mean and Standard Deviation of AAPL Closing Prices"
   ]
  },
  {
   "cell_type": "code",
   "execution_count": 8,
   "metadata": {},
   "outputs": [],
   "source": [
    "# Plot a rolling 30-day mean of aapl's closing prices\n"
   ]
  },
  {
   "cell_type": "markdown",
   "metadata": {},
   "source": [
    " ## 9. Rolling 30-Day Standard Deviation of AAPL Closing Prices"
   ]
  },
  {
   "cell_type": "code",
   "execution_count": 9,
   "metadata": {},
   "outputs": [],
   "source": [
    "# Plot a rolling 30-day std dev of aapl's closing prices\n"
   ]
  },
  {
   "cell_type": "markdown",
   "metadata": {},
   "source": [
    " ## 12. Overlay Daily Closing Price and 30-Day Rolling Mean of AAPL"
   ]
  },
  {
   "cell_type": "code",
   "execution_count": 10,
   "metadata": {},
   "outputs": [],
   "source": [
    "# Set figure of the daily closing prices of aapl\n",
    "\n",
    "\n",
    "\n",
    "# Plot 30-Day Rolling Mean on the same figure\n",
    "\n",
    "\n",
    "# Set the legend of the figure\n",
    "\n"
   ]
  },
  {
   "cell_type": "markdown",
   "metadata": {},
   "source": [
    " ## 13. Calculate the Volume Weighted Average Price (VWAP)\n",
    "\n",
    " ![VWAP](https://dm2302files.storage.live.com/y4mtQFl9sETd4GX3h3HcGrgEZCgrGAOtLlWbjBRVd8PL2CHqyUO6HJbccBVly2M0IT2TKXAtLkSv5dYmgvfRsqTyqK5BK1XvS9qV_7hQG9NdaAwvdUTAxUMbeWAGQ8ozwnPN0Q8elE2XD6AqtnVIpNG4zw0wATtJxedbNRKDudXz1qzoPgWc5vSuW5NXE2WVWyH?width=240&height=60&cropmode=none)\n",
    "\n",
    "1. Calculate the avg price of the stock over a t-period. (1 day, 5 minutes, etc) and multiply by the volume for that period\n",
    "2. Divide the result by the volume of that period\n",
    "\n",
    "### Why VWAP?\n",
    "\n",
    "** Trend confirmation (not a buy or sell execution). Indicate if market is bearish or bullish. Market is bullish when price < VWAP (short position) and bearish if price > VWAP (long position). \n",
    "\n",
    "- Bull Market - On the rise - Traders believe stock or overall market will go higher\n",
    "- Bear Market - Decline - Traders believe stock or overall market will go down or underperform.  \n",
    "\n",
    "** Use as a indicator when to buy or sell .\n",
    "\n",
    " \n",
    "\n",
    " "
   ]
  },
  {
   "cell_type": "code",
   "execution_count": 11,
   "metadata": {},
   "outputs": [
    {
     "data": {
      "text/html": [
       "<div>\n",
       "<style scoped>\n",
       "    .dataframe tbody tr th:only-of-type {\n",
       "        vertical-align: middle;\n",
       "    }\n",
       "\n",
       "    .dataframe tbody tr th {\n",
       "        vertical-align: top;\n",
       "    }\n",
       "\n",
       "    .dataframe thead th {\n",
       "        text-align: right;\n",
       "    }\n",
       "</style>\n",
       "<table border=\"1\" class=\"dataframe\">\n",
       "  <thead>\n",
       "    <tr style=\"text-align: right;\">\n",
       "      <th></th>\n",
       "      <th>close</th>\n",
       "      <th>volume</th>\n",
       "      <th>open</th>\n",
       "      <th>high</th>\n",
       "      <th>low</th>\n",
       "      <th>avg_price</th>\n",
       "    </tr>\n",
       "    <tr>\n",
       "      <th>date</th>\n",
       "      <th></th>\n",
       "      <th></th>\n",
       "      <th></th>\n",
       "      <th></th>\n",
       "      <th></th>\n",
       "      <th></th>\n",
       "    </tr>\n",
       "  </thead>\n",
       "  <tbody>\n",
       "    <tr>\n",
       "      <th>2009-08-03</th>\n",
       "      <td>23.7757</td>\n",
       "      <td>98285279</td>\n",
       "      <td>23.6014</td>\n",
       "      <td>23.8057</td>\n",
       "      <td>23.5529</td>\n",
       "      <td>23.683925</td>\n",
       "    </tr>\n",
       "    <tr>\n",
       "      <th>2009-08-04</th>\n",
       "      <td>23.6500</td>\n",
       "      <td>98772690</td>\n",
       "      <td>23.5614</td>\n",
       "      <td>23.6529</td>\n",
       "      <td>23.4586</td>\n",
       "      <td>23.580725</td>\n",
       "    </tr>\n",
       "    <tr>\n",
       "      <th>2009-08-05</th>\n",
       "      <td>23.5871</td>\n",
       "      <td>105581942</td>\n",
       "      <td>23.6786</td>\n",
       "      <td>23.9128</td>\n",
       "      <td>23.4586</td>\n",
       "      <td>23.659275</td>\n",
       "    </tr>\n",
       "    <tr>\n",
       "      <th>2009-08-06</th>\n",
       "      <td>23.4157</td>\n",
       "      <td>85271156</td>\n",
       "      <td>23.6543</td>\n",
       "      <td>23.7871</td>\n",
       "      <td>23.2986</td>\n",
       "      <td>23.538925</td>\n",
       "    </tr>\n",
       "    <tr>\n",
       "      <th>2009-08-07</th>\n",
       "      <td>23.6443</td>\n",
       "      <td>96727219</td>\n",
       "      <td>23.6414</td>\n",
       "      <td>23.8000</td>\n",
       "      <td>23.5429</td>\n",
       "      <td>23.657150</td>\n",
       "    </tr>\n",
       "  </tbody>\n",
       "</table>\n",
       "</div>"
      ],
      "text/plain": [
       "              close     volume     open     high      low  avg_price\n",
       "date                                                                \n",
       "2009-08-03  23.7757   98285279  23.6014  23.8057  23.5529  23.683925\n",
       "2009-08-04  23.6500   98772690  23.5614  23.6529  23.4586  23.580725\n",
       "2009-08-05  23.5871  105581942  23.6786  23.9128  23.4586  23.659275\n",
       "2009-08-06  23.4157   85271156  23.6543  23.7871  23.2986  23.538925\n",
       "2009-08-07  23.6443   96727219  23.6414  23.8000  23.5429  23.657150"
      ]
     },
     "execution_count": 11,
     "metadata": {},
     "output_type": "execute_result"
    }
   ],
   "source": [
    "# Read the aapl CSV into a DataFrame while formatting and setting the `date` column as the index\n",
    "aapl_df = pd.read_csv(aapl_csv_path, index_col=\"date\", infer_datetime_format=True, parse_dates=True)\n",
    "aapl_df.head()\n",
    "\n",
    "# Calculate daily average\n",
    "aapl_df['avg_price'] = aapl_df[['open','close','high','low']].mean(axis=1)\n",
    "aapl_df.head()"
   ]
  },
  {
   "cell_type": "code",
   "execution_count": 12,
   "metadata": {},
   "outputs": [],
   "source": [
    "# Function for calculating volume weighted average price\n"
   ]
  },
  {
   "cell_type": "code",
   "execution_count": 13,
   "metadata": {},
   "outputs": [],
   "source": [
    "# Calculate average volume for each window = 10\n"
   ]
  },
  {
   "cell_type": "code",
   "execution_count": 14,
   "metadata": {},
   "outputs": [],
   "source": [
    "# Drop n/a values for first points where the window was undefined\n"
   ]
  },
  {
   "cell_type": "code",
   "execution_count": 15,
   "metadata": {},
   "outputs": [],
   "source": [
    "# Let use lambda to apply functions that have multiple parameters. Apply the volume weighted average price function for each row in the dataframe\n"
   ]
  },
  {
   "cell_type": "markdown",
   "metadata": {},
   "source": [
    "[Lambdas Documentation](https://book.pythontips.com/en/latest/lambdas.html)"
   ]
  },
  {
   "cell_type": "code",
   "execution_count": 16,
   "metadata": {},
   "outputs": [],
   "source": [
    "# Initialize plot with average weighted price\n",
    "\n",
    "\n",
    "# Add average price to the plot\n",
    "\n",
    "\n",
    "# Set the legend of the figure\n",
    "\n"
   ]
  },
  {
   "cell_type": "code",
   "execution_count": null,
   "metadata": {},
   "outputs": [],
   "source": []
  }
 ],
 "metadata": {
  "interpreter": {
   "hash": "484c0c76a05fa16989cce3e4515524d2a2a1b274ca823ef854360f83533a2d3d"
  },
  "kernelspec": {
   "display_name": "Python 3.8.10 64-bit ('dev': conda)",
   "name": "python3"
  },
  "language_info": {
   "codemirror_mode": {
    "name": "ipython",
    "version": 3
   },
   "file_extension": ".py",
   "mimetype": "text/x-python",
   "name": "python",
   "nbconvert_exporter": "python",
   "pygments_lexer": "ipython3",
   "version": "3.8.10"
  }
 },
 "nbformat": 4,
 "nbformat_minor": 4
}
