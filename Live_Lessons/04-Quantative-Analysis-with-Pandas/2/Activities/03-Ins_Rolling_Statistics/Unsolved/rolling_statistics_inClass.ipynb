{
 "cells": [
  {
   "cell_type": "markdown",
   "metadata": {},
   "source": [
    " # Visualizing Rolling Statistics with Pandas DataFrames\n",
    "\n",
    "\n",
    "    ** Now we can look a  window of time smaller than 10 years. When you develop automated trading strategis you look at a shorter window times, (1 week or less)\n",
    "\n",
    "    ** Pandas `rolling()` method allow us to do this. It returns a Series and any method available to a Series is callable on the output of rolling().\n",
    "    \n",
    "[Pandas Documentation](https://pandas.pydata.org/pandas-docs/stable/reference/api/pandas.DataFrame.rolling.html)"
   ]
  },
  {
   "cell_type": "markdown",
   "metadata": {},
   "source": [
    " ## 1. Import Libraries and Dependencies"
   ]
  },
  {
   "cell_type": "code",
   "execution_count": 1,
   "metadata": {},
   "outputs": [],
   "source": [
    "# Import libraries and dependencies\n",
    "import pandas as pd\n",
    "from pathlib import Path\n",
    "%matplotlib inline\n"
   ]
  },
  {
   "cell_type": "markdown",
   "metadata": {},
   "source": [
    " ## 2. Create a Path to the File Using Pathlib."
   ]
  },
  {
   "cell_type": "code",
   "execution_count": 2,
   "metadata": {},
   "outputs": [],
   "source": [
    "# Read the aapl data, set the `date` as the index\n",
    "aapl_csv_path = Path(\"../Resources/aapl.csv\")\n",
    "\n"
   ]
  },
  {
   "cell_type": "markdown",
   "metadata": {},
   "source": [
    " ## 3. Read the CSV into a Pandas DataFrame."
   ]
  },
  {
   "cell_type": "code",
   "execution_count": 3,
   "metadata": {},
   "outputs": [
    {
     "data": {
      "text/html": [
       "<div>\n",
       "<style scoped>\n",
       "    .dataframe tbody tr th:only-of-type {\n",
       "        vertical-align: middle;\n",
       "    }\n",
       "\n",
       "    .dataframe tbody tr th {\n",
       "        vertical-align: top;\n",
       "    }\n",
       "\n",
       "    .dataframe thead th {\n",
       "        text-align: right;\n",
       "    }\n",
       "</style>\n",
       "<table border=\"1\" class=\"dataframe\">\n",
       "  <thead>\n",
       "    <tr style=\"text-align: right;\">\n",
       "      <th></th>\n",
       "      <th>close</th>\n",
       "      <th>volume</th>\n",
       "      <th>open</th>\n",
       "      <th>high</th>\n",
       "      <th>low</th>\n",
       "    </tr>\n",
       "    <tr>\n",
       "      <th>date</th>\n",
       "      <th></th>\n",
       "      <th></th>\n",
       "      <th></th>\n",
       "      <th></th>\n",
       "      <th></th>\n",
       "    </tr>\n",
       "  </thead>\n",
       "  <tbody>\n",
       "    <tr>\n",
       "      <th>2009-08-03</th>\n",
       "      <td>23.7757</td>\n",
       "      <td>98285279</td>\n",
       "      <td>23.6014</td>\n",
       "      <td>23.8057</td>\n",
       "      <td>23.5529</td>\n",
       "    </tr>\n",
       "    <tr>\n",
       "      <th>2009-08-04</th>\n",
       "      <td>23.6500</td>\n",
       "      <td>98772690</td>\n",
       "      <td>23.5614</td>\n",
       "      <td>23.6529</td>\n",
       "      <td>23.4586</td>\n",
       "    </tr>\n",
       "    <tr>\n",
       "      <th>2009-08-05</th>\n",
       "      <td>23.5871</td>\n",
       "      <td>105581942</td>\n",
       "      <td>23.6786</td>\n",
       "      <td>23.9128</td>\n",
       "      <td>23.4586</td>\n",
       "    </tr>\n",
       "    <tr>\n",
       "      <th>2009-08-06</th>\n",
       "      <td>23.4157</td>\n",
       "      <td>85271156</td>\n",
       "      <td>23.6543</td>\n",
       "      <td>23.7871</td>\n",
       "      <td>23.2986</td>\n",
       "    </tr>\n",
       "    <tr>\n",
       "      <th>2009-08-07</th>\n",
       "      <td>23.6443</td>\n",
       "      <td>96727219</td>\n",
       "      <td>23.6414</td>\n",
       "      <td>23.8000</td>\n",
       "      <td>23.5429</td>\n",
       "    </tr>\n",
       "  </tbody>\n",
       "</table>\n",
       "</div>"
      ],
      "text/plain": [
       "              close     volume     open     high      low\n",
       "date                                                     \n",
       "2009-08-03  23.7757   98285279  23.6014  23.8057  23.5529\n",
       "2009-08-04  23.6500   98772690  23.5614  23.6529  23.4586\n",
       "2009-08-05  23.5871  105581942  23.6786  23.9128  23.4586\n",
       "2009-08-06  23.4157   85271156  23.6543  23.7871  23.2986\n",
       "2009-08-07  23.6443   96727219  23.6414  23.8000  23.5429"
      ]
     },
     "execution_count": 3,
     "metadata": {},
     "output_type": "execute_result"
    }
   ],
   "source": [
    "# Read the aapl CSV into a DataFrame while formatting and setting the `date` column as the index\n",
    "aapl_df = pd.read_csv(aapl_csv_path, index_col=\"date\", infer_datetime_format=True, parse_dates=True)\n",
    "aapl_df.head()"
   ]
  },
  {
   "cell_type": "markdown",
   "metadata": {},
   "source": [
    " ## 4. Drop Extra Columns"
   ]
  },
  {
   "cell_type": "code",
   "execution_count": 4,
   "metadata": {},
   "outputs": [],
   "source": [
    "# Use the `drop` function to drop the extra columns\n",
    "aapl_df.drop(columns=[\"volume\", \"open\", \"high\", \"low\"], inplace=True)"
   ]
  },
  {
   "cell_type": "code",
   "execution_count": 5,
   "metadata": {},
   "outputs": [
    {
     "data": {
      "text/html": [
       "<div>\n",
       "<style scoped>\n",
       "    .dataframe tbody tr th:only-of-type {\n",
       "        vertical-align: middle;\n",
       "    }\n",
       "\n",
       "    .dataframe tbody tr th {\n",
       "        vertical-align: top;\n",
       "    }\n",
       "\n",
       "    .dataframe thead th {\n",
       "        text-align: right;\n",
       "    }\n",
       "</style>\n",
       "<table border=\"1\" class=\"dataframe\">\n",
       "  <thead>\n",
       "    <tr style=\"text-align: right;\">\n",
       "      <th></th>\n",
       "      <th>close</th>\n",
       "    </tr>\n",
       "    <tr>\n",
       "      <th>date</th>\n",
       "      <th></th>\n",
       "    </tr>\n",
       "  </thead>\n",
       "  <tbody>\n",
       "    <tr>\n",
       "      <th>2009-08-03</th>\n",
       "      <td>23.7757</td>\n",
       "    </tr>\n",
       "    <tr>\n",
       "      <th>2009-08-04</th>\n",
       "      <td>23.6500</td>\n",
       "    </tr>\n",
       "    <tr>\n",
       "      <th>2009-08-05</th>\n",
       "      <td>23.5871</td>\n",
       "    </tr>\n",
       "    <tr>\n",
       "      <th>2009-08-06</th>\n",
       "      <td>23.4157</td>\n",
       "    </tr>\n",
       "    <tr>\n",
       "      <th>2009-08-07</th>\n",
       "      <td>23.6443</td>\n",
       "    </tr>\n",
       "    <tr>\n",
       "      <th>...</th>\n",
       "      <td>...</td>\n",
       "    </tr>\n",
       "    <tr>\n",
       "      <th>2019-07-26</th>\n",
       "      <td>207.7400</td>\n",
       "    </tr>\n",
       "    <tr>\n",
       "      <th>2019-07-29</th>\n",
       "      <td>209.6800</td>\n",
       "    </tr>\n",
       "    <tr>\n",
       "      <th>2019-07-30</th>\n",
       "      <td>208.7800</td>\n",
       "    </tr>\n",
       "    <tr>\n",
       "      <th>2019-07-31</th>\n",
       "      <td>213.0400</td>\n",
       "    </tr>\n",
       "    <tr>\n",
       "      <th>2019-08-01</th>\n",
       "      <td>208.4300</td>\n",
       "    </tr>\n",
       "  </tbody>\n",
       "</table>\n",
       "<p>2517 rows × 1 columns</p>\n",
       "</div>"
      ],
      "text/plain": [
       "               close\n",
       "date                \n",
       "2009-08-03   23.7757\n",
       "2009-08-04   23.6500\n",
       "2009-08-05   23.5871\n",
       "2009-08-06   23.4157\n",
       "2009-08-07   23.6443\n",
       "...              ...\n",
       "2019-07-26  207.7400\n",
       "2019-07-29  209.6800\n",
       "2019-07-30  208.7800\n",
       "2019-07-31  213.0400\n",
       "2019-08-01  208.4300\n",
       "\n",
       "[2517 rows x 1 columns]"
      ]
     },
     "execution_count": 5,
     "metadata": {},
     "output_type": "execute_result"
    }
   ],
   "source": [
    "aapl_df"
   ]
  },
  {
   "cell_type": "markdown",
   "metadata": {},
   "source": [
    " ## 6. Rolling 7-Day Mean of AAPL Closing Prices"
   ]
  },
  {
   "cell_type": "code",
   "execution_count": 7,
   "metadata": {},
   "outputs": [
    {
     "data": {
      "text/plain": [
       "<matplotlib.axes._subplots.AxesSubplot at 0x1e267b58100>"
      ]
     },
     "execution_count": 7,
     "metadata": {},
     "output_type": "execute_result"
    },
    {
     "data": {
      "image/png": "[encoded data removed]",
      "text/plain": [
       "<Figure size 432x288 with 1 Axes>"
      ]
     },
     "metadata": {
      "needs_background": "light"
     },
     "output_type": "display_data"
    }
   ],
   "source": [
    "# Plot a rolling 7-day mean of aapl's closing prices\n",
    "aapl_df.rolling(window=7).mean().plot()"
   ]
  },
  {
   "cell_type": "code",
   "execution_count": 8,
   "metadata": {},
   "outputs": [
    {
     "data": {
      "text/html": [
       "<div>\n",
       "<style scoped>\n",
       "    .dataframe tbody tr th:only-of-type {\n",
       "        vertical-align: middle;\n",
       "    }\n",
       "\n",
       "    .dataframe tbody tr th {\n",
       "        vertical-align: top;\n",
       "    }\n",
       "\n",
       "    .dataframe thead th {\n",
       "        text-align: right;\n",
       "    }\n",
       "</style>\n",
       "<table border=\"1\" class=\"dataframe\">\n",
       "  <thead>\n",
       "    <tr style=\"text-align: right;\">\n",
       "      <th></th>\n",
       "      <th>close</th>\n",
       "    </tr>\n",
       "    <tr>\n",
       "      <th>date</th>\n",
       "      <th></th>\n",
       "    </tr>\n",
       "  </thead>\n",
       "  <tbody>\n",
       "    <tr>\n",
       "      <th>2009-08-03</th>\n",
       "      <td>NaN</td>\n",
       "    </tr>\n",
       "    <tr>\n",
       "      <th>2009-08-04</th>\n",
       "      <td>NaN</td>\n",
       "    </tr>\n",
       "    <tr>\n",
       "      <th>2009-08-05</th>\n",
       "      <td>NaN</td>\n",
       "    </tr>\n",
       "    <tr>\n",
       "      <th>2009-08-06</th>\n",
       "      <td>NaN</td>\n",
       "    </tr>\n",
       "    <tr>\n",
       "      <th>2009-08-07</th>\n",
       "      <td>NaN</td>\n",
       "    </tr>\n",
       "    <tr>\n",
       "      <th>...</th>\n",
       "      <td>...</td>\n",
       "    </tr>\n",
       "    <tr>\n",
       "      <th>2019-07-26</th>\n",
       "      <td>206.820000</td>\n",
       "    </tr>\n",
       "    <tr>\n",
       "      <th>2019-07-29</th>\n",
       "      <td>207.394286</td>\n",
       "    </tr>\n",
       "    <tr>\n",
       "      <th>2019-07-30</th>\n",
       "      <td>208.278571</td>\n",
       "    </tr>\n",
       "    <tr>\n",
       "      <th>2019-07-31</th>\n",
       "      <td>209.110000</td>\n",
       "    </tr>\n",
       "    <tr>\n",
       "      <th>2019-08-01</th>\n",
       "      <td>209.051429</td>\n",
       "    </tr>\n",
       "  </tbody>\n",
       "</table>\n",
       "<p>2517 rows × 1 columns</p>\n",
       "</div>"
      ],
      "text/plain": [
       "                 close\n",
       "date                  \n",
       "2009-08-03         NaN\n",
       "2009-08-04         NaN\n",
       "2009-08-05         NaN\n",
       "2009-08-06         NaN\n",
       "2009-08-07         NaN\n",
       "...                ...\n",
       "2019-07-26  206.820000\n",
       "2019-07-29  207.394286\n",
       "2019-07-30  208.278571\n",
       "2019-07-31  209.110000\n",
       "2019-08-01  209.051429\n",
       "\n",
       "[2517 rows x 1 columns]"
      ]
     },
     "execution_count": 8,
     "metadata": {},
     "output_type": "execute_result"
    }
   ],
   "source": [
    "# Show the dataframe the first 7 NAN values\n",
    "aapl_df.rolling(window=7).mean()"
   ]
  },
  {
   "cell_type": "markdown",
   "metadata": {},
   "source": [
    " ## 8. Rolling 30-Day Mean and Standard Deviation of AAPL Closing Prices"
   ]
  },
  {
   "cell_type": "code",
   "execution_count": 9,
   "metadata": {},
   "outputs": [
    {
     "data": {
      "text/plain": [
       "<matplotlib.axes._subplots.AxesSubplot at 0x1e26832cee0>"
      ]
     },
     "execution_count": 9,
     "metadata": {},
     "output_type": "execute_result"
    },
    {
     "data": {
      "image/png": "[encoded data removed]",
      "text/plain": [
       "<Figure size 432x288 with 1 Axes>"
      ]
     },
     "metadata": {
      "needs_background": "light"
     },
     "output_type": "display_data"
    }
   ],
   "source": [
    "# Plot a rolling 30-day mean of aapl's closing prices\n",
    "\n",
    "aapl_df.rolling(window=30).mean().plot()"
   ]
  },
  {
   "cell_type": "markdown",
   "metadata": {},
   "source": [
    " ## 9. Rolling 30-Day Standard Deviation of AAPL Closing Prices"
   ]
  },
  {
   "cell_type": "code",
   "execution_count": 12,
   "metadata": {},
   "outputs": [
    {
     "data": {
      "text/plain": [
       "<matplotlib.axes._subplots.AxesSubplot at 0x1e26845cca0>"
      ]
     },
     "execution_count": 12,
     "metadata": {},
     "output_type": "execute_result"
    },
    {
     "data": {
      "image/png": "[encoded data removed]",
      "text/plain": [
       "<Figure size 432x288 with 1 Axes>"
      ]
     },
     "metadata": {
      "needs_background": "light"
     },
     "output_type": "display_data"
    }
   ],
   "source": [
    "# Plot a rolling 30-day std dev of aapl's closing prices\n",
    "aapl_df.rolling(window=30).std().plot()"
   ]
  },
  {
   "cell_type": "markdown",
   "metadata": {},
   "source": [
    " ## 12. Overlay Daily Closing Price and 30-Day Rolling Mean of AAPL"
   ]
  },
  {
   "cell_type": "code",
   "execution_count": 14,
   "metadata": {},
   "outputs": [
    {
     "data": {
      "text/plain": [
       "<matplotlib.legend.Legend at 0x1e2685575b0>"
      ]
     },
     "execution_count": 14,
     "metadata": {},
     "output_type": "execute_result"
    },
    {
     "data": {
      "image/png": "[encoded data removed]",
      "text/plain": [
       "<Figure size 432x288 with 1 Axes>"
      ]
     },
     "metadata": {
      "needs_background": "light"
     },
     "output_type": "display_data"
    }
   ],
   "source": [
    "# Set figure of the daily closing prices of aapl\n",
    "ax = aapl_df.plot()\n",
    "\n",
    "\n",
    "\n",
    "# Plot 30-Day Rolling Mean on the same figure\n",
    "aapl_df.rolling(window=30).mean().plot(ax=ax)\n",
    "\n",
    "# Set the legend of the figure\n",
    "\n",
    "ax.legend([\"apple close price\", \"apple 30 day close price mean\"])"
   ]
  },
  {
   "cell_type": "markdown",
   "metadata": {},
   "source": [
    " ## 13. Calculate the Volume Weighted Average Price (VWAP)\n",
    "\n",
    " ![VWAP](https://dm2302files.storage.live.com/y4mtQFl9sETd4GX3h3HcGrgEZCgrGAOtLlWbjBRVd8PL2CHqyUO6HJbccBVly2M0IT2TKXAtLkSv5dYmgvfRsqTyqK5BK1XvS9qV_7hQG9NdaAwvdUTAxUMbeWAGQ8ozwnPN0Q8elE2XD6AqtnVIpNG4zw0wATtJxedbNRKDudXz1qzoPgWc5vSuW5NXE2WVWyH?width=240&height=60&cropmode=none)\n",
    "\n",
    "1. Calculate the avg price of the stock over a t-period. (1 day, 5 minutes, etc) and multiply by the volume for that period\n",
    "2. Divide the result by the volume of that period\n",
    "\n",
    "### Why VWAP?\n",
    "\n",
    "** Trend confirmation (not a buy or sell execution). Indicate if market is bearish or bullish. Market is bullish when price < VWAP (short position) and bearish if price > VWAP (long position). \n",
    "\n",
    "- Bull Market - On the rise - Traders believe stock or overall market will go higher\n",
    "- Bear Market - Decline - Traders believe stock or overall market will go down or underperform.  \n",
    "\n",
    "** Use as a indicator when to buy or sell .\n",
    "\n",
    " \n",
    "\n",
    " "
   ]
  },
  {
   "cell_type": "code",
   "execution_count": 15,
   "metadata": {},
   "outputs": [
    {
     "data": {
      "text/html": [
       "<div>\n",
       "<style scoped>\n",
       "    .dataframe tbody tr th:only-of-type {\n",
       "        vertical-align: middle;\n",
       "    }\n",
       "\n",
       "    .dataframe tbody tr th {\n",
       "        vertical-align: top;\n",
       "    }\n",
       "\n",
       "    .dataframe thead th {\n",
       "        text-align: right;\n",
       "    }\n",
       "</style>\n",
       "<table border=\"1\" class=\"dataframe\">\n",
       "  <thead>\n",
       "    <tr style=\"text-align: right;\">\n",
       "      <th></th>\n",
       "      <th>close</th>\n",
       "      <th>volume</th>\n",
       "      <th>open</th>\n",
       "      <th>high</th>\n",
       "      <th>low</th>\n",
       "      <th>avg_price</th>\n",
       "    </tr>\n",
       "    <tr>\n",
       "      <th>date</th>\n",
       "      <th></th>\n",
       "      <th></th>\n",
       "      <th></th>\n",
       "      <th></th>\n",
       "      <th></th>\n",
       "      <th></th>\n",
       "    </tr>\n",
       "  </thead>\n",
       "  <tbody>\n",
       "    <tr>\n",
       "      <th>2009-08-03</th>\n",
       "      <td>23.7757</td>\n",
       "      <td>98285279</td>\n",
       "      <td>23.6014</td>\n",
       "      <td>23.8057</td>\n",
       "      <td>23.5529</td>\n",
       "      <td>23.683925</td>\n",
       "    </tr>\n",
       "    <tr>\n",
       "      <th>2009-08-04</th>\n",
       "      <td>23.6500</td>\n",
       "      <td>98772690</td>\n",
       "      <td>23.5614</td>\n",
       "      <td>23.6529</td>\n",
       "      <td>23.4586</td>\n",
       "      <td>23.580725</td>\n",
       "    </tr>\n",
       "    <tr>\n",
       "      <th>2009-08-05</th>\n",
       "      <td>23.5871</td>\n",
       "      <td>105581942</td>\n",
       "      <td>23.6786</td>\n",
       "      <td>23.9128</td>\n",
       "      <td>23.4586</td>\n",
       "      <td>23.659275</td>\n",
       "    </tr>\n",
       "    <tr>\n",
       "      <th>2009-08-06</th>\n",
       "      <td>23.4157</td>\n",
       "      <td>85271156</td>\n",
       "      <td>23.6543</td>\n",
       "      <td>23.7871</td>\n",
       "      <td>23.2986</td>\n",
       "      <td>23.538925</td>\n",
       "    </tr>\n",
       "    <tr>\n",
       "      <th>2009-08-07</th>\n",
       "      <td>23.6443</td>\n",
       "      <td>96727219</td>\n",
       "      <td>23.6414</td>\n",
       "      <td>23.8000</td>\n",
       "      <td>23.5429</td>\n",
       "      <td>23.657150</td>\n",
       "    </tr>\n",
       "  </tbody>\n",
       "</table>\n",
       "</div>"
      ],
      "text/plain": [
       "              close     volume     open     high      low  avg_price\n",
       "date                                                                \n",
       "2009-08-03  23.7757   98285279  23.6014  23.8057  23.5529  23.683925\n",
       "2009-08-04  23.6500   98772690  23.5614  23.6529  23.4586  23.580725\n",
       "2009-08-05  23.5871  105581942  23.6786  23.9128  23.4586  23.659275\n",
       "2009-08-06  23.4157   85271156  23.6543  23.7871  23.2986  23.538925\n",
       "2009-08-07  23.6443   96727219  23.6414  23.8000  23.5429  23.657150"
      ]
     },
     "execution_count": 15,
     "metadata": {},
     "output_type": "execute_result"
    }
   ],
   "source": [
    "# Read the aapl CSV into a DataFrame while formatting and setting the `date` column as the index\n",
    "aapl_df = pd.read_csv(aapl_csv_path, index_col=\"date\", infer_datetime_format=True, parse_dates=True)\n",
    "aapl_df.head()\n",
    "\n",
    "# Calculate daily average\n",
    "aapl_df['avg_price'] = aapl_df[['open','close','high','low']].mean(axis=1)\n",
    "aapl_df.head()"
   ]
  },
  {
   "cell_type": "code",
   "execution_count": 19,
   "metadata": {},
   "outputs": [],
   "source": [
    "# Function for calculating volume weighted average price\n",
    "def volume_weighted_average_price(avg_price, volume, avg_volume):\n",
    "    return avg_price*volume/avg_volume"
   ]
  },
  {
   "cell_type": "code",
   "execution_count": 20,
   "metadata": {},
   "outputs": [
    {
     "data": {
      "text/html": [
       "<div>\n",
       "<style scoped>\n",
       "    .dataframe tbody tr th:only-of-type {\n",
       "        vertical-align: middle;\n",
       "    }\n",
       "\n",
       "    .dataframe tbody tr th {\n",
       "        vertical-align: top;\n",
       "    }\n",
       "\n",
       "    .dataframe thead th {\n",
       "        text-align: right;\n",
       "    }\n",
       "</style>\n",
       "<table border=\"1\" class=\"dataframe\">\n",
       "  <thead>\n",
       "    <tr style=\"text-align: right;\">\n",
       "      <th></th>\n",
       "      <th>close</th>\n",
       "      <th>volume</th>\n",
       "      <th>open</th>\n",
       "      <th>high</th>\n",
       "      <th>low</th>\n",
       "      <th>avg_price</th>\n",
       "      <th>avg_volume</th>\n",
       "    </tr>\n",
       "    <tr>\n",
       "      <th>date</th>\n",
       "      <th></th>\n",
       "      <th></th>\n",
       "      <th></th>\n",
       "      <th></th>\n",
       "      <th></th>\n",
       "      <th></th>\n",
       "      <th></th>\n",
       "    </tr>\n",
       "  </thead>\n",
       "  <tbody>\n",
       "    <tr>\n",
       "      <th>2009-08-14</th>\n",
       "      <td>23.8257</td>\n",
       "      <td>76389693</td>\n",
       "      <td>23.9914</td>\n",
       "      <td>24.0324</td>\n",
       "      <td>23.6471</td>\n",
       "      <td>23.874150</td>\n",
       "      <td>NaN</td>\n",
       "    </tr>\n",
       "    <tr>\n",
       "      <th>2009-08-17</th>\n",
       "      <td>22.7986</td>\n",
       "      <td>130749329</td>\n",
       "      <td>23.3643</td>\n",
       "      <td>23.3700</td>\n",
       "      <td>22.7743</td>\n",
       "      <td>23.076800</td>\n",
       "      <td>NaN</td>\n",
       "    </tr>\n",
       "    <tr>\n",
       "      <th>2009-08-18</th>\n",
       "      <td>23.4286</td>\n",
       "      <td>106128642</td>\n",
       "      <td>23.0900</td>\n",
       "      <td>23.4629</td>\n",
       "      <td>23.0586</td>\n",
       "      <td>23.260025</td>\n",
       "      <td>NaN</td>\n",
       "    </tr>\n",
       "    <tr>\n",
       "      <th>2009-08-19</th>\n",
       "      <td>23.5143</td>\n",
       "      <td>103001321</td>\n",
       "      <td>23.2500</td>\n",
       "      <td>23.6143</td>\n",
       "      <td>23.2071</td>\n",
       "      <td>23.396425</td>\n",
       "      <td>NaN</td>\n",
       "    </tr>\n",
       "    <tr>\n",
       "      <th>2009-08-20</th>\n",
       "      <td>23.7614</td>\n",
       "      <td>85380706</td>\n",
       "      <td>23.5686</td>\n",
       "      <td>23.8171</td>\n",
       "      <td>23.5157</td>\n",
       "      <td>23.665700</td>\n",
       "      <td>NaN</td>\n",
       "    </tr>\n",
       "    <tr>\n",
       "      <th>...</th>\n",
       "      <td>...</td>\n",
       "      <td>...</td>\n",
       "      <td>...</td>\n",
       "      <td>...</td>\n",
       "      <td>...</td>\n",
       "      <td>...</td>\n",
       "      <td>...</td>\n",
       "    </tr>\n",
       "    <tr>\n",
       "      <th>2019-07-26</th>\n",
       "      <td>207.7400</td>\n",
       "      <td>17618870</td>\n",
       "      <td>207.4800</td>\n",
       "      <td>209.7300</td>\n",
       "      <td>207.1400</td>\n",
       "      <td>208.022500</td>\n",
       "      <td>17458630.0</td>\n",
       "    </tr>\n",
       "    <tr>\n",
       "      <th>2019-07-29</th>\n",
       "      <td>209.6800</td>\n",
       "      <td>21673390</td>\n",
       "      <td>208.4600</td>\n",
       "      <td>210.6400</td>\n",
       "      <td>208.4400</td>\n",
       "      <td>209.305000</td>\n",
       "      <td>17931227.0</td>\n",
       "    </tr>\n",
       "    <tr>\n",
       "      <th>2019-07-30</th>\n",
       "      <td>208.7800</td>\n",
       "      <td>33935720</td>\n",
       "      <td>208.7600</td>\n",
       "      <td>210.1600</td>\n",
       "      <td>207.3100</td>\n",
       "      <td>208.752500</td>\n",
       "      <td>19638117.0</td>\n",
       "    </tr>\n",
       "    <tr>\n",
       "      <th>2019-07-31</th>\n",
       "      <td>213.0400</td>\n",
       "      <td>69281360</td>\n",
       "      <td>216.4200</td>\n",
       "      <td>221.3700</td>\n",
       "      <td>211.3000</td>\n",
       "      <td>215.532500</td>\n",
       "      <td>25155508.0</td>\n",
       "    </tr>\n",
       "    <tr>\n",
       "      <th>2019-08-01</th>\n",
       "      <td>208.4300</td>\n",
       "      <td>54017920</td>\n",
       "      <td>213.9000</td>\n",
       "      <td>218.0300</td>\n",
       "      <td>206.7435</td>\n",
       "      <td>211.775875</td>\n",
       "      <td>28699084.0</td>\n",
       "    </tr>\n",
       "  </tbody>\n",
       "</table>\n",
       "<p>2508 rows × 7 columns</p>\n",
       "</div>"
      ],
      "text/plain": [
       "               close     volume      open      high       low   avg_price  \\\n",
       "date                                                                        \n",
       "2009-08-14   23.8257   76389693   23.9914   24.0324   23.6471   23.874150   \n",
       "2009-08-17   22.7986  130749329   23.3643   23.3700   22.7743   23.076800   \n",
       "2009-08-18   23.4286  106128642   23.0900   23.4629   23.0586   23.260025   \n",
       "2009-08-19   23.5143  103001321   23.2500   23.6143   23.2071   23.396425   \n",
       "2009-08-20   23.7614   85380706   23.5686   23.8171   23.5157   23.665700   \n",
       "...              ...        ...       ...       ...       ...         ...   \n",
       "2019-07-26  207.7400   17618870  207.4800  209.7300  207.1400  208.022500   \n",
       "2019-07-29  209.6800   21673390  208.4600  210.6400  208.4400  209.305000   \n",
       "2019-07-30  208.7800   33935720  208.7600  210.1600  207.3100  208.752500   \n",
       "2019-07-31  213.0400   69281360  216.4200  221.3700  211.3000  215.532500   \n",
       "2019-08-01  208.4300   54017920  213.9000  218.0300  206.7435  211.775875   \n",
       "\n",
       "            avg_volume  \n",
       "date                    \n",
       "2009-08-14         NaN  \n",
       "2009-08-17         NaN  \n",
       "2009-08-18         NaN  \n",
       "2009-08-19         NaN  \n",
       "2009-08-20         NaN  \n",
       "...                ...  \n",
       "2019-07-26  17458630.0  \n",
       "2019-07-29  17931227.0  \n",
       "2019-07-30  19638117.0  \n",
       "2019-07-31  25155508.0  \n",
       "2019-08-01  28699084.0  \n",
       "\n",
       "[2508 rows x 7 columns]"
      ]
     },
     "execution_count": 20,
     "metadata": {},
     "output_type": "execute_result"
    }
   ],
   "source": [
    "# Calculate average volume for each window = 10\n",
    "aapl_df[\"avg_volume\"] = aapl_df[\"volume\"].rolling(window=10).mean()\n",
    "aapl_df\n"
   ]
  },
  {
   "cell_type": "code",
   "execution_count": 21,
   "metadata": {},
   "outputs": [
    {
     "data": {
      "text/html": [
       "<div>\n",
       "<style scoped>\n",
       "    .dataframe tbody tr th:only-of-type {\n",
       "        vertical-align: middle;\n",
       "    }\n",
       "\n",
       "    .dataframe tbody tr th {\n",
       "        vertical-align: top;\n",
       "    }\n",
       "\n",
       "    .dataframe thead th {\n",
       "        text-align: right;\n",
       "    }\n",
       "</style>\n",
       "<table border=\"1\" class=\"dataframe\">\n",
       "  <thead>\n",
       "    <tr style=\"text-align: right;\">\n",
       "      <th></th>\n",
       "      <th>close</th>\n",
       "      <th>volume</th>\n",
       "      <th>open</th>\n",
       "      <th>high</th>\n",
       "      <th>low</th>\n",
       "      <th>avg_price</th>\n",
       "      <th>avg_volume</th>\n",
       "    </tr>\n",
       "    <tr>\n",
       "      <th>date</th>\n",
       "      <th></th>\n",
       "      <th></th>\n",
       "      <th></th>\n",
       "      <th></th>\n",
       "      <th></th>\n",
       "      <th></th>\n",
       "      <th></th>\n",
       "    </tr>\n",
       "  </thead>\n",
       "  <tbody>\n",
       "    <tr>\n",
       "      <th>2009-08-27</th>\n",
       "      <td>24.2071</td>\n",
       "      <td>111932414</td>\n",
       "      <td>24.1071</td>\n",
       "      <td>24.2243</td>\n",
       "      <td>23.5471</td>\n",
       "      <td>24.021400</td>\n",
       "      <td>97563292.3</td>\n",
       "    </tr>\n",
       "    <tr>\n",
       "      <th>2009-08-28</th>\n",
       "      <td>24.2928</td>\n",
       "      <td>113355444</td>\n",
       "      <td>24.6100</td>\n",
       "      <td>24.6414</td>\n",
       "      <td>24.0757</td>\n",
       "      <td>24.404975</td>\n",
       "      <td>101259867.4</td>\n",
       "    </tr>\n",
       "    <tr>\n",
       "      <th>2009-08-31</th>\n",
       "      <td>24.0300</td>\n",
       "      <td>77698483</td>\n",
       "      <td>24.0228</td>\n",
       "      <td>24.1214</td>\n",
       "      <td>23.7857</td>\n",
       "      <td>23.989975</td>\n",
       "      <td>95954782.8</td>\n",
       "    </tr>\n",
       "    <tr>\n",
       "      <th>2009-09-01</th>\n",
       "      <td>23.6140</td>\n",
       "      <td>117083715</td>\n",
       "      <td>23.9986</td>\n",
       "      <td>24.2857</td>\n",
       "      <td>23.5629</td>\n",
       "      <td>23.865300</td>\n",
       "      <td>97050290.1</td>\n",
       "    </tr>\n",
       "    <tr>\n",
       "      <th>2009-09-02</th>\n",
       "      <td>23.5971</td>\n",
       "      <td>90989317</td>\n",
       "      <td>23.5171</td>\n",
       "      <td>23.9443</td>\n",
       "      <td>23.4443</td>\n",
       "      <td>23.625700</td>\n",
       "      <td>95849089.7</td>\n",
       "    </tr>\n",
       "  </tbody>\n",
       "</table>\n",
       "</div>"
      ],
      "text/plain": [
       "              close     volume     open     high      low  avg_price  \\\n",
       "date                                                                   \n",
       "2009-08-27  24.2071  111932414  24.1071  24.2243  23.5471  24.021400   \n",
       "2009-08-28  24.2928  113355444  24.6100  24.6414  24.0757  24.404975   \n",
       "2009-08-31  24.0300   77698483  24.0228  24.1214  23.7857  23.989975   \n",
       "2009-09-01  23.6140  117083715  23.9986  24.2857  23.5629  23.865300   \n",
       "2009-09-02  23.5971   90989317  23.5171  23.9443  23.4443  23.625700   \n",
       "\n",
       "             avg_volume  \n",
       "date                     \n",
       "2009-08-27   97563292.3  \n",
       "2009-08-28  101259867.4  \n",
       "2009-08-31   95954782.8  \n",
       "2009-09-01   97050290.1  \n",
       "2009-09-02   95849089.7  "
      ]
     },
     "execution_count": 21,
     "metadata": {},
     "output_type": "execute_result"
    }
   ],
   "source": [
    "# Drop n/a values for first points where the window was undefined\n",
    "aapl_df.dropna(inplace=True)\n",
    "aapl_df.head()"
   ]
  },
  {
   "cell_type": "code",
   "execution_count": 24,
   "metadata": {},
   "outputs": [],
   "source": [
    "# Let use lambda to apply functions that have multiple parameters. Apply the volume weighted average price function for each row in the dataframe\n",
    "aapl_df['avg_price_vol'] = aapl_df.apply(lambda x : volume_weighted_average_price(x.avg_price, x.volume, x.avg_volume), axis=1) "
   ]
  },
  {
   "cell_type": "code",
   "execution_count": 25,
   "metadata": {},
   "outputs": [
    {
     "data": {
      "text/html": [
       "<div>\n",
       "<style scoped>\n",
       "    .dataframe tbody tr th:only-of-type {\n",
       "        vertical-align: middle;\n",
       "    }\n",
       "\n",
       "    .dataframe tbody tr th {\n",
       "        vertical-align: top;\n",
       "    }\n",
       "\n",
       "    .dataframe thead th {\n",
       "        text-align: right;\n",
       "    }\n",
       "</style>\n",
       "<table border=\"1\" class=\"dataframe\">\n",
       "  <thead>\n",
       "    <tr style=\"text-align: right;\">\n",
       "      <th></th>\n",
       "      <th>close</th>\n",
       "      <th>volume</th>\n",
       "      <th>open</th>\n",
       "      <th>high</th>\n",
       "      <th>low</th>\n",
       "      <th>avg_price</th>\n",
       "      <th>avg_volume</th>\n",
       "      <th>avg_price_vol</th>\n",
       "    </tr>\n",
       "    <tr>\n",
       "      <th>date</th>\n",
       "      <th></th>\n",
       "      <th></th>\n",
       "      <th></th>\n",
       "      <th></th>\n",
       "      <th></th>\n",
       "      <th></th>\n",
       "      <th></th>\n",
       "      <th></th>\n",
       "    </tr>\n",
       "  </thead>\n",
       "  <tbody>\n",
       "    <tr>\n",
       "      <th>2009-08-27</th>\n",
       "      <td>24.2071</td>\n",
       "      <td>111932414</td>\n",
       "      <td>24.1071</td>\n",
       "      <td>24.2243</td>\n",
       "      <td>23.5471</td>\n",
       "      <td>24.021400</td>\n",
       "      <td>97563292.3</td>\n",
       "      <td>27.559272</td>\n",
       "    </tr>\n",
       "    <tr>\n",
       "      <th>2009-08-28</th>\n",
       "      <td>24.2928</td>\n",
       "      <td>113355444</td>\n",
       "      <td>24.6100</td>\n",
       "      <td>24.6414</td>\n",
       "      <td>24.0757</td>\n",
       "      <td>24.404975</td>\n",
       "      <td>101259867.4</td>\n",
       "      <td>27.320170</td>\n",
       "    </tr>\n",
       "    <tr>\n",
       "      <th>2009-08-31</th>\n",
       "      <td>24.0300</td>\n",
       "      <td>77698483</td>\n",
       "      <td>24.0228</td>\n",
       "      <td>24.1214</td>\n",
       "      <td>23.7857</td>\n",
       "      <td>23.989975</td>\n",
       "      <td>95954782.8</td>\n",
       "      <td>19.425657</td>\n",
       "    </tr>\n",
       "    <tr>\n",
       "      <th>2009-09-01</th>\n",
       "      <td>23.6140</td>\n",
       "      <td>117083715</td>\n",
       "      <td>23.9986</td>\n",
       "      <td>24.2857</td>\n",
       "      <td>23.5629</td>\n",
       "      <td>23.865300</td>\n",
       "      <td>97050290.1</td>\n",
       "      <td>28.791650</td>\n",
       "    </tr>\n",
       "    <tr>\n",
       "      <th>2009-09-02</th>\n",
       "      <td>23.5971</td>\n",
       "      <td>90989317</td>\n",
       "      <td>23.5171</td>\n",
       "      <td>23.9443</td>\n",
       "      <td>23.4443</td>\n",
       "      <td>23.625700</td>\n",
       "      <td>95849089.7</td>\n",
       "      <td>22.427822</td>\n",
       "    </tr>\n",
       "    <tr>\n",
       "      <th>...</th>\n",
       "      <td>...</td>\n",
       "      <td>...</td>\n",
       "      <td>...</td>\n",
       "      <td>...</td>\n",
       "      <td>...</td>\n",
       "      <td>...</td>\n",
       "      <td>...</td>\n",
       "      <td>...</td>\n",
       "    </tr>\n",
       "    <tr>\n",
       "      <th>2019-07-26</th>\n",
       "      <td>207.7400</td>\n",
       "      <td>17618870</td>\n",
       "      <td>207.4800</td>\n",
       "      <td>209.7300</td>\n",
       "      <td>207.1400</td>\n",
       "      <td>208.022500</td>\n",
       "      <td>17458630.0</td>\n",
       "      <td>209.931786</td>\n",
       "    </tr>\n",
       "    <tr>\n",
       "      <th>2019-07-29</th>\n",
       "      <td>209.6800</td>\n",
       "      <td>21673390</td>\n",
       "      <td>208.4600</td>\n",
       "      <td>210.6400</td>\n",
       "      <td>208.4400</td>\n",
       "      <td>209.305000</td>\n",
       "      <td>17931227.0</td>\n",
       "      <td>252.985972</td>\n",
       "    </tr>\n",
       "    <tr>\n",
       "      <th>2019-07-30</th>\n",
       "      <td>208.7800</td>\n",
       "      <td>33935720</td>\n",
       "      <td>208.7600</td>\n",
       "      <td>210.1600</td>\n",
       "      <td>207.3100</td>\n",
       "      <td>208.752500</td>\n",
       "      <td>19638117.0</td>\n",
       "      <td>360.735522</td>\n",
       "    </tr>\n",
       "    <tr>\n",
       "      <th>2019-07-31</th>\n",
       "      <td>213.0400</td>\n",
       "      <td>69281360</td>\n",
       "      <td>216.4200</td>\n",
       "      <td>221.3700</td>\n",
       "      <td>211.3000</td>\n",
       "      <td>215.532500</td>\n",
       "      <td>25155508.0</td>\n",
       "      <td>593.602988</td>\n",
       "    </tr>\n",
       "    <tr>\n",
       "      <th>2019-08-01</th>\n",
       "      <td>208.4300</td>\n",
       "      <td>54017920</td>\n",
       "      <td>213.9000</td>\n",
       "      <td>218.0300</td>\n",
       "      <td>206.7435</td>\n",
       "      <td>211.775875</td>\n",
       "      <td>28699084.0</td>\n",
       "      <td>398.608272</td>\n",
       "    </tr>\n",
       "  </tbody>\n",
       "</table>\n",
       "<p>2499 rows × 8 columns</p>\n",
       "</div>"
      ],
      "text/plain": [
       "               close     volume      open      high       low   avg_price  \\\n",
       "date                                                                        \n",
       "2009-08-27   24.2071  111932414   24.1071   24.2243   23.5471   24.021400   \n",
       "2009-08-28   24.2928  113355444   24.6100   24.6414   24.0757   24.404975   \n",
       "2009-08-31   24.0300   77698483   24.0228   24.1214   23.7857   23.989975   \n",
       "2009-09-01   23.6140  117083715   23.9986   24.2857   23.5629   23.865300   \n",
       "2009-09-02   23.5971   90989317   23.5171   23.9443   23.4443   23.625700   \n",
       "...              ...        ...       ...       ...       ...         ...   \n",
       "2019-07-26  207.7400   17618870  207.4800  209.7300  207.1400  208.022500   \n",
       "2019-07-29  209.6800   21673390  208.4600  210.6400  208.4400  209.305000   \n",
       "2019-07-30  208.7800   33935720  208.7600  210.1600  207.3100  208.752500   \n",
       "2019-07-31  213.0400   69281360  216.4200  221.3700  211.3000  215.532500   \n",
       "2019-08-01  208.4300   54017920  213.9000  218.0300  206.7435  211.775875   \n",
       "\n",
       "             avg_volume  avg_price_vol  \n",
       "date                                    \n",
       "2009-08-27   97563292.3      27.559272  \n",
       "2009-08-28  101259867.4      27.320170  \n",
       "2009-08-31   95954782.8      19.425657  \n",
       "2009-09-01   97050290.1      28.791650  \n",
       "2009-09-02   95849089.7      22.427822  \n",
       "...                 ...            ...  \n",
       "2019-07-26   17458630.0     209.931786  \n",
       "2019-07-29   17931227.0     252.985972  \n",
       "2019-07-30   19638117.0     360.735522  \n",
       "2019-07-31   25155508.0     593.602988  \n",
       "2019-08-01   28699084.0     398.608272  \n",
       "\n",
       "[2499 rows x 8 columns]"
      ]
     },
     "execution_count": 25,
     "metadata": {},
     "output_type": "execute_result"
    }
   ],
   "source": [
    "aapl_df"
   ]
  },
  {
   "cell_type": "markdown",
   "metadata": {},
   "source": [
    "[Lambdas Documentation](https://book.pythontips.com/en/latest/lambdas.html)"
   ]
  },
  {
   "cell_type": "code",
   "execution_count": 26,
   "metadata": {},
   "outputs": [
    {
     "data": {
      "text/plain": [
       "<matplotlib.legend.Legend at 0x1e269889370>"
      ]
     },
     "execution_count": 26,
     "metadata": {},
     "output_type": "execute_result"
    },
    {
     "data": {
      "image/png": "[encoded data removed]",
      "text/plain": [
       "<Figure size 432x288 with 1 Axes>"
      ]
     },
     "metadata": {
      "needs_background": "light"
     },
     "output_type": "display_data"
    }
   ],
   "source": [
    "# Initialize plot with average weighted price\n",
    "ax = aapl_df['avg_price_vol'].rolling(window=10).mean().plot()\n",
    "\n",
    "\n",
    "# Add average price to the plot\n",
    "aapl_df['avg_price'].plot(ax=ax)\n",
    "\n",
    "# Set the legend of the figure\n",
    "ax.legend([\"aapl\", \"aapl avg weighted weekly price\"])\n"
   ]
  },
  {
   "cell_type": "code",
   "execution_count": null,
   "metadata": {},
   "outputs": [],
   "source": []
  }
 ],
 "metadata": {
  "interpreter": {
   "hash": "484c0c76a05fa16989cce3e4515524d2a2a1b274ca823ef854360f83533a2d3d"
  },
  "kernelspec": {
   "display_name": "Python [conda env:dev] *",
   "language": "python",
   "name": "conda-env-dev-py"
  },
  "language_info": {
   "codemirror_mode": {
    "name": "ipython",
    "version": 3
   },
   "file_extension": ".py",
   "mimetype": "text/x-python",
   "name": "python",
   "nbconvert_exporter": "python",
   "pygments_lexer": "ipython3",
   "version": "3.8.10"
  }
 },
 "nbformat": 4,
 "nbformat_minor": 4
}
