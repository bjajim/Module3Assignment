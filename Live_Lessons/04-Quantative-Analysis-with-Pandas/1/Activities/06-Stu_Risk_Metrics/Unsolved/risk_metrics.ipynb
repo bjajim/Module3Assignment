{
 "cells": [
  {
   "cell_type": "markdown",
   "metadata": {},
   "source": [
    "# Compare the Risks of a Portfolio of Stocks\n",
    "In this activity you will compare a basket of stocks and determine if they are risky investments compared to the SP500."
   ]
  },
  {
   "cell_type": "markdown",
   "metadata": {},
   "source": [
    "## 1. Import Modules"
   ]
  },
  {
   "cell_type": "code",
   "execution_count": 1,
   "metadata": {},
   "outputs": [],
   "source": [
    "# Import Modules\n",
    "import pandas as pd\n",
    "from pathlib import Path\n",
    "import matplotlib.pyplot as plt\n"
   ]
  },
  {
   "cell_type": "markdown",
   "metadata": {},
   "source": [
    "## 2. Set paths to `CSV` Files\n",
    "  - Each csv file contains a stock's closing price and the date of the closing price.\n",
    "\n",
    "  - Create a `Path` object for each `CSV` filepath."
   ]
  },
  {
   "cell_type": "code",
   "execution_count": 3,
   "metadata": {},
   "outputs": [],
   "source": [
    "# Set paths to csv files\n",
    "hd_csv_path = Path(\"../Resources/HD.csv\")\n",
    "intc_csv_path = Path(\"../Resources/INTC.csv\")\n",
    "mu_csv_path = Path(\"../Resources/MU.csv\")\n",
    "nvda_csv_path = Path(\"../Resources/NVDA.csv\")\n",
    "tsla_csv_path = Path(\"../Resources/TSLA.csv\")\n",
    "sp500_path = Path(\"../Resources/sp500.csv\")"
   ]
  },
  {
   "cell_type": "markdown",
   "metadata": {},
   "source": [
    "## 3. For each `CSV` file read the data into a `pandas` `DataFrame`.\n",
    "\n",
    "  - Set the index column to be the date.\n",
    "\n",
    "  - Infer the date time format.\n",
    "\n",
    "  - Parse all dates when the `CSV` is loaded."
   ]
  },
  {
   "cell_type": "code",
   "execution_count": 4,
   "metadata": {},
   "outputs": [],
   "source": [
    "# Read in csv files\n",
    "hd_df = pd.read_csv(\n",
    "    hd_csv_path, \n",
    "    index_col=\"date\", \n",
    "    infer_datetime_format=True, \n",
    "    parse_dates=True\n",
    ")\n",
    "intc_df = pd.read_csv(\n",
    "    intc_csv_path, \n",
    "    index_col=\"date\", \n",
    "    infer_datetime_format=True, \n",
    "    parse_dates=True\n",
    ")\n",
    "mu_df = pd.read_csv(\n",
    "    mu_csv_path, \n",
    "    index_col=\"date\", \n",
    "    infer_datetime_format=True, \n",
    "    parse_dates=True\n",
    ")\n",
    "nvda_df = pd.read_csv(\n",
    "    nvda_csv_path, \n",
    "    index_col=\"date\", \n",
    "    infer_datetime_format=True, \n",
    "    parse_dates=True\n",
    ")\n",
    "tsla_df = pd.read_csv(\n",
    "    tsla_csv_path, \n",
    "    index_col=\"date\", \n",
    "    infer_datetime_format=True, \n",
    "    parse_dates=True\n",
    ")\n",
    "\n",
    "sp500_df = pd.read_csv(\n",
    "    sp500_path, \n",
    "    index_col=\"date\", \n",
    "    infer_datetime_format=True, \n",
    "    parse_dates=True\n",
    ")"
   ]
  },
  {
   "cell_type": "markdown",
   "metadata": {},
   "source": [
    "## 4. Concatenate the Dataframes into one `DataFrame`\n",
    "  - Use an inner join.\n",
    "\n",
    "  - Set the axis to be the columns."
   ]
  },
  {
   "cell_type": "code",
   "execution_count": 5,
   "metadata": {},
   "outputs": [],
   "source": [
    "# Concatenate the dataframes into one dataframe\n",
    "combined_df = pd.concat(\n",
    "    [hd_df, intc_df, mu_df, nvda_df, tsla_df, sp500_df], axis=\"columns\", join=\"inner\"\n",
    ")"
   ]
  },
  {
   "cell_type": "markdown",
   "metadata": {},
   "source": [
    "## 5. Calculate the Daily Percent Changes\n",
    "  - Drop all n/a values"
   ]
  },
  {
   "cell_type": "code",
   "execution_count": 6,
   "metadata": {},
   "outputs": [],
   "source": [
    "# Calculate the daily percent changes and drop n/a values\n",
    "combined_df = combined_df.pct_change().dropna()"
   ]
  },
  {
   "cell_type": "code",
   "execution_count": 7,
   "metadata": {},
   "outputs": [
    {
     "data": {
      "text/html": [
       "<div>\n",
       "<style scoped>\n",
       "    .dataframe tbody tr th:only-of-type {\n",
       "        vertical-align: middle;\n",
       "    }\n",
       "\n",
       "    .dataframe tbody tr th {\n",
       "        vertical-align: top;\n",
       "    }\n",
       "\n",
       "    .dataframe thead th {\n",
       "        text-align: right;\n",
       "    }\n",
       "</style>\n",
       "<table border=\"1\" class=\"dataframe\">\n",
       "  <thead>\n",
       "    <tr style=\"text-align: right;\">\n",
       "      <th></th>\n",
       "      <th>hd_close</th>\n",
       "      <th>intc_close</th>\n",
       "      <th>mu_close</th>\n",
       "      <th>nvda_close</th>\n",
       "      <th>tsla_close</th>\n",
       "      <th>sp500_close</th>\n",
       "    </tr>\n",
       "    <tr>\n",
       "      <th>date</th>\n",
       "      <th></th>\n",
       "      <th></th>\n",
       "      <th></th>\n",
       "      <th></th>\n",
       "      <th></th>\n",
       "      <th></th>\n",
       "    </tr>\n",
       "  </thead>\n",
       "  <tbody>\n",
       "    <tr>\n",
       "      <th>2014-05-21</th>\n",
       "      <td>0.001539</td>\n",
       "      <td>0.006144</td>\n",
       "      <td>0.016573</td>\n",
       "      <td>0.000000</td>\n",
       "      <td>0.021249</td>\n",
       "      <td>0.008116</td>\n",
       "    </tr>\n",
       "    <tr>\n",
       "      <th>2014-05-22</th>\n",
       "      <td>0.008965</td>\n",
       "      <td>-0.001908</td>\n",
       "      <td>0.006669</td>\n",
       "      <td>0.004386</td>\n",
       "      <td>0.027225</td>\n",
       "      <td>0.002362</td>\n",
       "    </tr>\n",
       "    <tr>\n",
       "      <th>2014-05-23</th>\n",
       "      <td>0.005077</td>\n",
       "      <td>0.005354</td>\n",
       "      <td>0.005889</td>\n",
       "      <td>0.009279</td>\n",
       "      <td>0.011812</td>\n",
       "      <td>0.004248</td>\n",
       "    </tr>\n",
       "    <tr>\n",
       "      <th>2014-05-27</th>\n",
       "      <td>0.006441</td>\n",
       "      <td>0.015976</td>\n",
       "      <td>0.026711</td>\n",
       "      <td>0.017847</td>\n",
       "      <td>0.020550</td>\n",
       "      <td>0.005988</td>\n",
       "    </tr>\n",
       "    <tr>\n",
       "      <th>2014-05-28</th>\n",
       "      <td>-0.000125</td>\n",
       "      <td>0.006365</td>\n",
       "      <td>0.019601</td>\n",
       "      <td>0.008502</td>\n",
       "      <td>-0.006239</td>\n",
       "      <td>-0.001114</td>\n",
       "    </tr>\n",
       "  </tbody>\n",
       "</table>\n",
       "</div>"
      ],
      "text/plain": [
       "            hd_close  intc_close  mu_close  nvda_close  tsla_close  \\\n",
       "date                                                                 \n",
       "2014-05-21  0.001539    0.006144  0.016573    0.000000    0.021249   \n",
       "2014-05-22  0.008965   -0.001908  0.006669    0.004386    0.027225   \n",
       "2014-05-23  0.005077    0.005354  0.005889    0.009279    0.011812   \n",
       "2014-05-27  0.006441    0.015976  0.026711    0.017847    0.020550   \n",
       "2014-05-28 -0.000125    0.006365  0.019601    0.008502   -0.006239   \n",
       "\n",
       "            sp500_close  \n",
       "date                     \n",
       "2014-05-21     0.008116  \n",
       "2014-05-22     0.002362  \n",
       "2014-05-23     0.004248  \n",
       "2014-05-27     0.005988  \n",
       "2014-05-28    -0.001114  "
      ]
     },
     "execution_count": 7,
     "metadata": {},
     "output_type": "execute_result"
    }
   ],
   "source": [
    "# Preview the data\n",
    "combined_df.head()"
   ]
  },
  {
   "cell_type": "markdown",
   "metadata": {},
   "source": [
    "## 6. Calculate Sharpe Ratios\n",
    "  - There are 252 trading days in a year\n",
    "\n",
    "  - Calculate the average annual return\n",
    "\n",
    "  - Calculate the annualized standard deviation\n"
   ]
  },
  {
   "cell_type": "code",
   "execution_count": 8,
   "metadata": {},
   "outputs": [],
   "source": [
    "# There are 252 trading days in a year\n",
    "year_trading_days = 252"
   ]
  },
  {
   "cell_type": "markdown",
   "metadata": {},
   "source": [
    "### Calculate the annual average return"
   ]
  },
  {
   "cell_type": "code",
   "execution_count": 9,
   "metadata": {},
   "outputs": [
    {
     "data": {
      "text/plain": [
       "hd_close       0.198321\n",
       "intc_close     0.144027\n",
       "mu_close       0.177969\n",
       "nvda_close     0.524966\n",
       "tsla_close     0.130022\n",
       "sp500_close    0.092164\n",
       "dtype: float64"
      ]
     },
     "execution_count": 9,
     "metadata": {},
     "output_type": "execute_result"
    }
   ],
   "source": [
    "# Calculate the annual average return\n",
    "average_annual_return = combined_df.mean() * year_trading_days\n",
    "average_annual_return"
   ]
  },
  {
   "cell_type": "markdown",
   "metadata": {},
   "source": [
    "### Calculate the annualized standard deviation"
   ]
  },
  {
   "cell_type": "code",
   "execution_count": 10,
   "metadata": {},
   "outputs": [
    {
     "data": {
      "text/plain": [
       "hd_close       0.187293\n",
       "intc_close     0.258208\n",
       "mu_close       0.453929\n",
       "nvda_close     0.416985\n",
       "tsla_close     0.436912\n",
       "sp500_close    0.133162\n",
       "dtype: float64"
      ]
     },
     "execution_count": 10,
     "metadata": {},
     "output_type": "execute_result"
    }
   ],
   "source": [
    "# Calculate the annualized standard deviation\n",
    "annualized_standard_deviation = combined_df.std() * (year_trading_days) ** (1/2)\n",
    "annualized_standard_deviation"
   ]
  },
  {
   "cell_type": "markdown",
   "metadata": {},
   "source": [
    "### Calculate the Sharpe Ratios\n",
    "  - The sharp ratio is ratio between the average annual return and the annualized standard deviation.\n",
    "  - $\\frac{R_{p}}{\\sigma_{p}}$"
   ]
  },
  {
   "cell_type": "code",
   "execution_count": 12,
   "metadata": {},
   "outputs": [
    {
     "data": {
      "text/plain": [
       "hd_close       1.058884\n",
       "intc_close     0.557794\n",
       "mu_close       0.392063\n",
       "nvda_close     1.258956\n",
       "tsla_close     0.297594\n",
       "sp500_close    0.692122\n",
       "dtype: float64"
      ]
     },
     "execution_count": 12,
     "metadata": {},
     "output_type": "execute_result"
    }
   ],
   "source": [
    "# Calculate the sharpe ratios\n",
    "sharpe_ratios = average_annual_return / annualized_standard_deviation\n",
    "sharpe_ratios"
   ]
  },
  {
   "cell_type": "markdown",
   "metadata": {},
   "source": [
    "## 7. Plot the Sharpe Ratios with a bar plot"
   ]
  },
  {
   "cell_type": "code",
   "execution_count": 13,
   "metadata": {},
   "outputs": [
    {
     "data": {
      "image/png": "[encoded data removed]",
      "text/plain": [
       "<Figure size 432x288 with 1 Axes>"
      ]
     },
     "metadata": {
      "needs_background": "light"
     },
     "output_type": "display_data"
    }
   ],
   "source": [
    "# Plot the sharpe ratios\n",
    "sharpe_ratios.plot.bar(title=\"Sharpe Ratios\")\n",
    "\n",
    "plt.show()"
   ]
  },
  {
   "cell_type": "code",
   "execution_count": null,
   "metadata": {},
   "outputs": [],
   "source": []
  }
 ],
 "metadata": {
  "kernelspec": {
   "display_name": "Python 3",
   "language": "python",
   "name": "python3"
  },
  "language_info": {
   "codemirror_mode": {
    "name": "ipython",
    "version": 3
   },
   "file_extension": ".py",
   "mimetype": "text/x-python",
   "name": "python",
   "nbconvert_exporter": "python",
   "pygments_lexer": "ipython3",
   "version": "3.8.10"
  }
 },
 "nbformat": 4,
 "nbformat_minor": 4
}
